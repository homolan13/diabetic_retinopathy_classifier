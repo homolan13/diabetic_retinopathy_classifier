{
 "cells": [
  {
   "cell_type": "code",
   "execution_count": 2,
   "metadata": {},
   "outputs": [],
   "source": [
    "import numpy as np\n",
    "import pandas as pd\n",
    "import matplotlib.pyplot as plt\n",
    "import os\n",
    "import ast"
   ]
  },
  {
   "attachments": {},
   "cell_type": "markdown",
   "metadata": {},
   "source": [
    "### Read data"
   ]
  },
  {
   "cell_type": "code",
   "execution_count": 17,
   "metadata": {},
   "outputs": [],
   "source": [
    "data = pd.read_csv('data/CLEAN.csv')\n",
    "triplets = pd.read_csv('data/TRIPLETS.csv')"
   ]
  },
  {
   "attachments": {},
   "cell_type": "markdown",
   "metadata": {},
   "source": [
    "Check for completeness\n"
   ]
  },
  {
   "cell_type": "code",
   "execution_count": 4,
   "metadata": {},
   "outputs": [
    {
     "name": "stdout",
     "output_type": "stream",
     "text": [
      "1836 out of 1836 images exist\n"
     ]
    }
   ],
   "source": [
    "exists, total = 0, 0\n",
    "for image_uuid in data['image_uuid']:\n",
    "    total += 1\n",
    "    if os.path.isfile('data/images/' + image_uuid + '.png'):\n",
    "        exists += 1\n",
    "\n",
    "print(f'{exists} out of {total} images exist') # Should be 1836 out of 1836"
   ]
  },
  {
   "attachments": {},
   "cell_type": "markdown",
   "metadata": {},
   "source": [
    "### Basic statistics"
   ]
  },
  {
   "cell_type": "code",
   "execution_count": 6,
   "metadata": {},
   "outputs": [
    {
     "name": "stdout",
     "output_type": "stream",
     "text": [
      "Total number of images: 1836\n",
      "Total number of patients: 264\n",
      "Image-pre-patient ration: 6.95\n"
     ]
    }
   ],
   "source": [
    "print(f'Total number of images: {len(data[\"image_uuid\"].unique())}')\n",
    "print(f'Total number of patients: {len(data[\"patient_hash\"].unique())}')\n",
    "print(f'Image-pre-patient ration: {len(data[\"image_uuid\"].unique()) / len(data[\"patient_hash\"].unique()):.2f}')"
   ]
  },
  {
   "cell_type": "code",
   "execution_count": 13,
   "metadata": {},
   "outputs": [
    {
     "name": "stdout",
     "output_type": "stream",
     "text": [
      "Modality\n",
      "--------\n",
      "Number of IR images            : 898 (48.91%)\n",
      "Number of horizontal OCT images: 468 (25.49%)\n",
      "Number of vertical OCT images  : 470 (25.60%)\n"
     ]
    }
   ],
   "source": [
    "print('Modality')\n",
    "print('--------')\n",
    "print(f'Number of IR images            : {len(data[data[\"image_type\"] == \"Scanning Laser Ophthalmoscope\"])} ({len(data[data[\"image_type\"] == \"Scanning Laser Ophthalmoscope\"]) / len(data) * 100:.2f}%)')\n",
    "print(f'Number of horizontal OCT images: {len(data[data[\"image_orientation\"] == \"horizontal\"])} ({len(data[data[\"image_orientation\"] == \"horizontal\"]) / len(data) * 100:.2f}%)')\n",
    "print(f'Number of vertical OCT images  : {len(data[data[\"image_orientation\"] == \"vertical\"])} ({len(data[data[\"image_orientation\"] == \"vertical\"]) / len(data) * 100:.2f}%)')"
   ]
  },
  {
   "cell_type": "code",
   "execution_count": 9,
   "metadata": {},
   "outputs": [
    {
     "name": "stdout",
     "output_type": "stream",
     "text": [
      "Laterality\n",
      "----------\n",
      "Number of left eye images: 711 (38.73%)\n",
      "Number of right eye images: 1125 (61.27%)\n"
     ]
    }
   ],
   "source": [
    "print('Laterality')\n",
    "print('----------')\n",
    "print(f'Number of left eye images: {len(data[data[\"laterality\"] == \"L\"])} ({len(data[data[\"laterality\"] == \"L\"]) / len(data) * 100:.2f}%)')\n",
    "print(f'Number of right eye images: {len(data[data[\"laterality\"] == \"R\"])} ({len(data[data[\"laterality\"] == \"R\"]) / len(data) * 100:.2f}%)')"
   ]
  },
  {
   "cell_type": "code",
   "execution_count": 14,
   "metadata": {},
   "outputs": [
    {
     "name": "stdout",
     "output_type": "stream",
     "text": [
      "Proliferation\n",
      "-------------\n",
      "Number of NPDR images: 1247 (67.92%)\n",
      "Number of PDR images : 589 (32.08%)\n"
     ]
    }
   ],
   "source": [
    "print('Proliferation')\n",
    "print('-------------')\n",
    "print(f'Number of NPDR images: {len(data[data[\"proliferation\"] == \"NPDR\"])} ({len(data[data[\"proliferation\"] == \"NPDR\"]) / len(data) * 100:.2f}%)')\n",
    "print(f'Number of PDR images : {len(data[data[\"proliferation\"] == \"PDR\"])} ({len(data[data[\"proliferation\"] == \"PDR\"]) / len(data) * 100:.2f}%)')"
   ]
  },
  {
   "cell_type": "code",
   "execution_count": 16,
   "metadata": {},
   "outputs": [
    {
     "name": "stdout",
     "output_type": "stream",
     "text": [
      "Combined\n",
      "--------\n",
      "Left / Horizontal / NPDR : 117\n",
      "Right / Horizontal / NPDR: 197\n",
      "Left / Vertical / NPDR   : 117\n",
      "Right / Vertical / NPDR  : 198\n",
      "Left / Fundus / NPDR     : 228\n",
      "Right / Fundus / NPDR    : 390\n",
      "Left / Horizontal / PDR  : 63\n",
      "Right / Horizontal / PDR : 91\n",
      "Left / Vertical / PDR    : 64\n",
      "Right / Vertical / PDR   : 91\n",
      "Left / Fundus / PDR      : 122\n",
      "Right / Fundus / PDR     : 158\n"
     ]
    }
   ],
   "source": [
    "print('Combined')\n",
    "print('--------')\n",
    "print(f'Left / Horizontal / NPDR : {len(data[(data[\"laterality\"] == \"L\") & (data[\"image_orientation\"] == \"horizontal\") & (data[\"proliferation\"] == \"NPDR\")])}')\n",
    "print(f'Right / Horizontal / NPDR: {len(data[(data[\"laterality\"] == \"R\") & (data[\"image_orientation\"] == \"horizontal\") & (data[\"proliferation\"] == \"NPDR\")])}')\n",
    "print(f'Left / Vertical / NPDR   : {len(data[(data[\"laterality\"] == \"L\") & (data[\"image_orientation\"] == \"vertical\") & (data[\"proliferation\"] == \"NPDR\")])}')\n",
    "print(f'Right / Vertical / NPDR  : {len(data[(data[\"laterality\"] == \"R\") & (data[\"image_orientation\"] == \"vertical\") & (data[\"proliferation\"] == \"NPDR\")])}')\n",
    "print(f'Left / Fundus / NPDR     : {len(data[(data[\"laterality\"] == \"L\") & (data[\"image_type\"] == \"Scanning Laser Ophthalmoscope\") & (data[\"proliferation\"] == \"NPDR\")])}')\n",
    "print(f'Right / Fundus / NPDR    : {len(data[(data[\"laterality\"] == \"R\") & (data[\"image_type\"] == \"Scanning Laser Ophthalmoscope\") & (data[\"proliferation\"] == \"NPDR\")])}')\n",
    "print(f'Left / Horizontal / PDR  : {len(data[(data[\"laterality\"] == \"L\") & (data[\"image_orientation\"] == \"horizontal\") & (data[\"proliferation\"] == \"PDR\")])}')\n",
    "print(f'Right / Horizontal / PDR : {len(data[(data[\"laterality\"] == \"R\") & (data[\"image_orientation\"] == \"horizontal\") & (data[\"proliferation\"] == \"PDR\")])}')\n",
    "print(f'Left / Vertical / PDR    : {len(data[(data[\"laterality\"] == \"L\") & (data[\"image_orientation\"] == \"vertical\") & (data[\"proliferation\"] == \"PDR\")])}')\n",
    "print(f'Right / Vertical / PDR   : {len(data[(data[\"laterality\"] == \"R\") & (data[\"image_orientation\"] == \"vertical\") & (data[\"proliferation\"] == \"PDR\")])}')\n",
    "print(f'Left / Fundus / PDR      : {len(data[(data[\"laterality\"] == \"L\") & (data[\"image_type\"] == \"Scanning Laser Ophthalmoscope\") & (data[\"proliferation\"] == \"PDR\")])}')\n",
    "print(f'Right / Fundus / PDR     : {len(data[(data[\"laterality\"] == \"R\") & (data[\"image_type\"] == \"Scanning Laser Ophthalmoscope\") & (data[\"proliferation\"] == \"PDR\")])}')"
   ]
  },
  {
   "cell_type": "code",
   "execution_count": 18,
   "metadata": {},
   "outputs": [
    {
     "name": "stdout",
     "output_type": "stream",
     "text": [
      "Triplets\n",
      "--------\n",
      "Number of triplets: 874\n",
      "Number of patients: 253\n"
     ]
    }
   ],
   "source": [
    "# TRIPLETS\n",
    "print('Triplets')\n",
    "print('--------')\n",
    "print(f'Number of triplets: {len(triplets)}')\n",
    "print(f'Number of patients: {len(triplets[\"patient_hash\"].unique())}')"
   ]
  },
  {
   "cell_type": "code",
   "execution_count": 22,
   "metadata": {},
   "outputs": [
    {
     "name": "stdout",
     "output_type": "stream",
     "text": [
      "Combined\n",
      "--------\n",
      "Left / NPDR: 224 (25.6%)\n",
      "Right / NPDR: 384 (43.9%)\n",
      "Left / PDR: 116 (13.3%)\n",
      "Right / PDR: 150 (17.2%)\n"
     ]
    }
   ],
   "source": [
    "print('Combined')\n",
    "print('--------')\n",
    "print(f'Left / NPDR: {len(triplets[(triplets[\"laterality\"] == \"L\") & (triplets[\"proliferation\"] == \"NPDR\")])} ({len(triplets[(triplets[\"laterality\"] == \"L\") & (triplets[\"proliferation\"] == \"NPDR\")]) / len(triplets):.1%})')\n",
    "print(f'Right / NPDR: {len(triplets[(triplets[\"laterality\"] == \"R\") & (triplets[\"proliferation\"] == \"NPDR\")])} ({len(triplets[(triplets[\"laterality\"] == \"R\") & (triplets[\"proliferation\"] == \"NPDR\")]) / len(triplets):.1%})')\n",
    "print(f'Left / PDR: {len(triplets[(triplets[\"laterality\"] == \"L\") & (triplets[\"proliferation\"] == \"PDR\")])} ({len(triplets[(triplets[\"laterality\"] == \"L\") & (triplets[\"proliferation\"] == \"PDR\")]) / len(triplets):.1%})')\n",
    "print(f'Right / PDR: {len(triplets[(triplets[\"laterality\"] == \"R\") & (triplets[\"proliferation\"] == \"PDR\")])} ({len(triplets[(triplets[\"laterality\"] == \"R\") & (triplets[\"proliferation\"] == \"PDR\")]) / len(triplets):.1%})')"
   ]
  },
  {
   "attachments": {},
   "cell_type": "markdown",
   "metadata": {},
   "source": [
    "### Image Analysis"
   ]
  },
  {
   "cell_type": "code",
   "execution_count": 85,
   "metadata": {},
   "outputs": [
    {
     "name": "stdout",
     "output_type": "stream",
     "text": [
      "Shape(s) of IR images: {(768, 768): 750, (768, 768, 4): 236, (1536, 1536): 4}\n",
      "Minimum value of IR images: 0.0\n",
      "Maximum value of IR images: 1.0\n",
      "\n",
      "Shape(s) of OCT scans: {(496, 768): 750, (496, 768, 4): 236, (496, 1536): 4}\n",
      "Minimum value of OCT scans: 0.0\n",
      "Maximum value of OCT scans: 1.0\n"
     ]
    }
   ],
   "source": [
    "img_path = 'data/images/'\n",
    "IR = {'shapes': [], 'min_value': 1., 'max_value': 0.}\n",
    "OCT = {'shapes': [], 'min_value': 1., 'max_value': 0.}\n",
    "\n",
    "for _, item in combined.iterrows():\n",
    "    img = plt.imread(img_path + item['image_uuid'] + '.png')\n",
    "    if item['image_type'] == 'Scanning Laser Ophthalmoscope':\n",
    "        IR['shapes'].append(img.shape)\n",
    "        IR['min_value'] = min(IR['min_value'], img.min())\n",
    "        IR['max_value'] = max(IR['max_value'], img.max())\n",
    "    elif item['image_type'] == 'Optical Coherence Tomography Scanner':\n",
    "        OCT['shapes'].append(img.shape)\n",
    "        OCT['min_value'] = min(OCT['min_value'], img.min())\n",
    "        OCT['max_value'] = max(OCT['max_value'], img.max())\n",
    "\n",
    "IR_shape_occurrences = {}\n",
    "for shapes in set(IR['shapes']):\n",
    "    IR_shape_occurrences[shapes] = IR['shapes'].count(shapes)\n",
    "OCT_shape_occurrences = {}\n",
    "for shapes in set(OCT['shapes']):\n",
    "    OCT_shape_occurrences[shapes] = OCT['shapes'].count(shapes)\n",
    "\n",
    "\n",
    "print(f'Shape(s) of IR images: {IR_shape_occurrences}') # TODO: Need to resize to model input size\n",
    "print(f'Minimum value of IR images: {IR[\"min_value\"]}')\n",
    "print(f'Maximum value of IR images: {IR[\"max_value\"]}')\n",
    "print()\n",
    "print(f'Shape(s) of OCT scans: {OCT_shape_occurrences}')\n",
    "print(f'Minimum value of OCT scans: {OCT[\"min_value\"]}')\n",
    "print(f'Maximum value of OCT scans: {OCT[\"max_value\"]}')\n"
   ]
  }
 ],
 "metadata": {
  "kernelspec": {
   "display_name": "dr",
   "language": "python",
   "name": "python3"
  },
  "language_info": {
   "codemirror_mode": {
    "name": "ipython",
    "version": 3
   },
   "file_extension": ".py",
   "mimetype": "text/x-python",
   "name": "python",
   "nbconvert_exporter": "python",
   "pygments_lexer": "ipython3",
   "version": "3.10.9"
  },
  "orig_nbformat": 4
 },
 "nbformat": 4,
 "nbformat_minor": 2
}
